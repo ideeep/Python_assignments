{
 "cells": [
  {
   "cell_type": "markdown",
   "id": "82a5b5e9",
   "metadata": {},
   "source": [
    "# Question 1\n",
    "**What does an empty dictionary's code look like?**\n",
    "\n",
    "An empty dictionary is represented by empty curly braces: {}\n",
    "\n",
    "# Question 2\n",
    "**2. What is the value of a dictionary value with the key 'foo' and the value 42?**\n",
    "\n",
    "The dictionary value with the key 'foo' and the value 42 is {'foo': 42}\n",
    "\n",
    "# Question 3\n",
    "**3. What is the most significant distinction between a dictionary and a list?**\n",
    "\n",
    "The most significant distinction is that a dictionary stores key-value pairs, while a list stores ordered elements.\n",
    "\n",
    "# Question 4\n",
    "**4. What happens if you try to access spam['foo'] if spam is {'bar': 100}?**\n",
    "\n",
    "Accessing spam['foo'] will raise a KeyError since 'foo' is not a key in the dictionary spam.\n",
    "\n",
    "# Question 5\n",
    "**5. If a dictionary is stored in spam, what is the difference between the expressions 'cat' in spam and 'cat' in spam.keys()?**\n",
    "\n",
    "'cat' in spam checks if 'cat' is a key in the dictionary, while 'cat' in spam.keys() also checks for the same.\n",
    "\n",
    "# Question 6\n",
    "**6. If a dictionary is stored in spam, what is the difference between the expressions 'cat' in spam and 'cat' in spam.values()?**\n",
    "\n",
    "'cat' in spam checks if 'cat' is a key in the dictionary, while 'cat' in spam.values() checks if 'cat' is a value.\n",
    "\n",
    "# Question 7\n",
    "**7. What is a shortcut for the following code?\\nif 'color' not in spam:\\n    spam['color'] = 'black'**\n",
    "\n",
    "A shortcut is using the setdefault() \n",
    "'''python'''\n",
    "method: spam.setdefault('color', 'black')\n",
    "\n",
    "# Question 8\n",
    "**8. How do you 'pretty print' dictionary values using which module and function?**\n",
    "\n",
    "You can 'pretty print' dictionary values using the 'pprint' module and the 'pprint()' function."
   ]
  },
  {
   "cell_type": "code",
   "execution_count": 2,
   "id": "f60377de",
   "metadata": {},
   "outputs": [
    {
     "name": "stdout",
     "output_type": "stream",
     "text": [
      "{'age': 30, 'city': 'New York', 'name': 'Alice'}\n"
     ]
    }
   ],
   "source": [
    "from pprint import pprint\n",
    "data = {'name': 'Alice', 'age': 30, 'city': 'New York'}\n",
    "pprint(data)"
   ]
  },
  {
   "cell_type": "code",
   "execution_count": null,
   "id": "b3c47849",
   "metadata": {},
   "outputs": [],
   "source": []
  }
 ],
 "metadata": {
  "kernelspec": {
   "display_name": "Python 3 (ipykernel)",
   "language": "python",
   "name": "python3"
  },
  "language_info": {
   "codemirror_mode": {
    "name": "ipython",
    "version": 3
   },
   "file_extension": ".py",
   "mimetype": "text/x-python",
   "name": "python",
   "nbconvert_exporter": "python",
   "pygments_lexer": "ipython3",
   "version": "3.11.3"
  }
 },
 "nbformat": 4,
 "nbformat_minor": 5
}
