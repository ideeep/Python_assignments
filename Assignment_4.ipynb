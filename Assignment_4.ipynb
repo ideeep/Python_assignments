{
 "cells": [
  {
   "cell_type": "markdown",
   "id": "9e155182",
   "metadata": {},
   "source": [
    "## Question 1\n",
    "**What exactly is `[]`?**\n",
    "\n",
    "The empty square brackets `[]` represent an empty list in Python.\n",
    "\n",
    "## Question 2\n",
    "**In a list of values stored in a variable called `spam`, how would you assign the value `'hello'` as the third value?**\n",
    "\n",
    "```python'''\n",
    "spam = [2, 4, 6, 8, 10]\n",
    "spam[2] = 'hello'\n",
    "print(spam) \n",
    "Output: [2, 4, 'hello', 8, 10]\n"
   ]
  },
  {
   "cell_type": "markdown",
   "id": "25260a61",
   "metadata": {},
   "source": [
    "# Question 3\n",
    "**What is the value of spam[int(int('3' * 2) / 11)]?**"
   ]
  },
  {
   "cell_type": "code",
   "execution_count": 8,
   "id": "9ce73f08",
   "metadata": {},
   "outputs": [
    {
     "name": "stdout",
     "output_type": "stream",
     "text": [
      "d\n"
     ]
    }
   ],
   "source": [
    "spam = ['a', 'b', 'c', 'd']\n",
    "value = spam[int(int('3' * 2) / 11)]\n",
    "print(value)"
   ]
  },
  {
   "cell_type": "markdown",
   "id": "eeaa8b49",
   "metadata": {},
   "source": [
    "# Question 4\n",
    "**What is the value of spam[-1]?**"
   ]
  },
  {
   "cell_type": "code",
   "execution_count": 10,
   "id": "34a9c15d",
   "metadata": {},
   "outputs": [
    {
     "name": "stdout",
     "output_type": "stream",
     "text": [
      "d\n"
     ]
    }
   ],
   "source": [
    "value = spam[-1]\n",
    "print(value)\n"
   ]
  },
  {
   "cell_type": "markdown",
   "id": "8b681993",
   "metadata": {},
   "source": [
    "# Question 5\n",
    "**What is the value of spam[:2]?**\n",
    "Let's pretend bacon has the list [3.14, 'cat,' 11, 'cat,' True] for the next three questions."
   ]
  },
  {
   "cell_type": "code",
   "execution_count": 11,
   "id": "646dc8ba",
   "metadata": {},
   "outputs": [
    {
     "name": "stdout",
     "output_type": "stream",
     "text": [
      "['a', 'b']\n"
     ]
    }
   ],
   "source": [
    "value = spam[:2]\n",
    "print(value)"
   ]
  },
  {
   "cell_type": "markdown",
   "id": "283eb1f7",
   "metadata": {},
   "source": [
    "# Question 6\n",
    "**What is the value of bacon.index('cat')?**"
   ]
  },
  {
   "cell_type": "code",
   "execution_count": 12,
   "id": "f39d3a7f",
   "metadata": {},
   "outputs": [
    {
     "name": "stdout",
     "output_type": "stream",
     "text": [
      "1\n"
     ]
    }
   ],
   "source": [
    "bacon = [3.14, 'cat', 11, 'cat', True]\n",
    "index = bacon.index('cat')\n",
    "print(index)"
   ]
  },
  {
   "cell_type": "markdown",
   "id": "b039d603",
   "metadata": {},
   "source": [
    "# Question 7\n",
    "**How does bacon.append(99) change the look of the list value in bacon?**"
   ]
  },
  {
   "cell_type": "code",
   "execution_count": 13,
   "id": "e734939e",
   "metadata": {},
   "outputs": [
    {
     "name": "stdout",
     "output_type": "stream",
     "text": [
      "[3.14, 'cat', 11, 'cat', True, 99]\n"
     ]
    }
   ],
   "source": [
    "bacon.append(99)\n",
    "print(bacon)"
   ]
  },
  {
   "cell_type": "markdown",
   "id": "20bf90a6",
   "metadata": {},
   "source": [
    "# Question 8\n",
    "**How does bacon.remove('cat') change the look of the list in bacon?**"
   ]
  },
  {
   "cell_type": "code",
   "execution_count": 14,
   "id": "ae8f6ac6",
   "metadata": {},
   "outputs": [
    {
     "name": "stdout",
     "output_type": "stream",
     "text": [
      "[3.14, 11, 'cat', True, 99]\n"
     ]
    }
   ],
   "source": [
    "bacon.remove('cat')\n",
    "print(bacon)"
   ]
  },
  {
   "cell_type": "markdown",
   "id": "6b66aae4",
   "metadata": {},
   "source": [
    "# Question 9\n",
    "**What are the list concatenation and list replication operators?**\n",
    "\n",
    "List concatenation uses the + operator (e.g., list1 + list2), and list replication uses the * operator (e.g., list * n).\n",
    "\n",
    "# Question 10\n",
    "**What is the difference between the list methods append() and insert()?**\n",
    "\n",
    "The append() method adds an item to the end of the list, while the insert() method adds an item at a specified index.\n",
    "\n",
    "# Question 11\n",
    "**What are the two methods for removing items from a list?**\n",
    "\n",
    "The two methods for removing items from a list are remove() and pop().\n",
    "\n",
    "# Question 12\n",
    "**Describe how list values and string values are identical.**\n",
    "\n",
    "Lists and strings are both sequences, and their elements can be accessed using indexing and slicing.\n",
    "\n",
    "# Question 13\n",
    "**What's the difference between tuples and lists?**\n",
    "\n",
    "Tuples are immutable, and their elements are enclosed in parentheses, while lists are mutable and use square brackets.\n",
    "\n",
    "# Question 14\n",
    "**How do you type a tuple value that only contains the integer 42?**\n"
   ]
  },
  {
   "cell_type": "code",
   "execution_count": 1,
   "id": "dd43664c",
   "metadata": {},
   "outputs": [],
   "source": [
    "tuple_value = (42,)"
   ]
  },
  {
   "cell_type": "markdown",
   "id": "96a55b88",
   "metadata": {},
   "source": [
    "\n",
    "# Question 15\n",
    "**How do you get a list value's tuple form?**\n"
   ]
  },
  {
   "cell_type": "code",
   "execution_count": 5,
   "id": "178870e0",
   "metadata": {},
   "outputs": [
    {
     "name": "stdout",
     "output_type": "stream",
     "text": [
      "(1, 2, 3, 4, 5)\n"
     ]
    }
   ],
   "source": [
    "my_list = [1, 2, 3, 4, 5]\n",
    "my_tuple = tuple(my_list)\n",
    "print(my_tuple)\n"
   ]
  },
  {
   "cell_type": "markdown",
   "id": "4d1392fc",
   "metadata": {},
   "source": [
    "# Question 16\n",
    "**Variables that \"contain\" list values are not necessarily lists themselves. Instead, what do they contain?**\n",
    "\n",
    "Variables that \"contain\" list values actually contain references to the memory locations of those list values."
   ]
  },
  {
   "cell_type": "markdown",
   "id": "391a1afb",
   "metadata": {},
   "source": [
    "# Question 17\n",
    "**How do you distinguish between copy.copy() and copy.deepcopy()?**\n",
    "\n",
    "copy.copy() creates a shallow copy of a list, while copy.deepcopy() creates a deep copy, including nested lists and their elements."
   ]
  },
  {
   "cell_type": "code",
   "execution_count": null,
   "id": "14c23c67",
   "metadata": {},
   "outputs": [],
   "source": []
  }
 ],
 "metadata": {
  "kernelspec": {
   "display_name": "Python 3 (ipykernel)",
   "language": "python",
   "name": "python3"
  },
  "language_info": {
   "codemirror_mode": {
    "name": "ipython",
    "version": 3
   },
   "file_extension": ".py",
   "mimetype": "text/x-python",
   "name": "python",
   "nbconvert_exporter": "python",
   "pygments_lexer": "ipython3",
   "version": "3.11.3"
  }
 },
 "nbformat": 4,
 "nbformat_minor": 5
}
