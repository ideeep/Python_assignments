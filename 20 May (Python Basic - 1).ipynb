{
 "cells": [
  {
   "cell_type": "markdown",
   "id": "6f23dd5a",
   "metadata": {},
   "source": [
    "# Question 1\n",
    "**What are keywords in Python? Using the keyword library, print all the Python keywords.**\n",
    "\n",
    "Keywords in Python are reserved words that have special meanings and purposes. They cannot be used as identifiers (variable names)."
   ]
  },
  {
   "cell_type": "code",
   "execution_count": 4,
   "id": "b679a8e3",
   "metadata": {},
   "outputs": [
    {
     "name": "stdout",
     "output_type": "stream",
     "text": [
      "['False', 'None', 'True', 'and', 'as', 'assert', 'async', 'await', 'break', 'class', 'continue', 'def', 'del', 'elif', 'else', 'except', 'finally', 'for', 'from', 'global', 'if', 'import', 'in', 'is', 'lambda', 'nonlocal', 'not', 'or', 'pass', 'raise', 'return', 'try', 'while', 'with', 'yield']\n"
     ]
    }
   ],
   "source": [
    "import keyword\n",
    "print(keyword.kwlist)"
   ]
  },
  {
   "cell_type": "markdown",
   "id": "bfa4d0bb",
   "metadata": {},
   "source": [
    "\n",
    "# Question 2\n",
    "**What are the rules to create variables in Python?**\n",
    "\n",
    "    Variable names must start with a letter (a-z, A-Z) or an underscore (_).\n",
    "    They can contain letters, digits (0-9), and underscores.\n",
    "    Variable names are case-sensitive.\n",
    "    Avoid using Python keywords as variable names.\n",
    "    Don't start variable names with digits.\n",
    "\n",
    "# Question 3\n",
    "**What are the standards and conventions followed for the nomenclature of variables in Python to improve code readability and maintainability?**\n",
    "\n",
    "   **Standards:**\n",
    "\n",
    "    Use descriptive variable names.\n",
    "    Use lowercase letters for variable names.\n",
    "    Separate words in variable names using underscores (snake_case).\n",
    "    Question 4\n",
    "    What will happen if a keyword is used as a variable name?\n",
    "    Using a keyword as a variable name will result in a syntax error.\n",
    "\n",
    "# Question 5\n",
    "**For what purpose is the def keyword used?**\n",
    "\n",
    "The def keyword is used to define a function in Python.\n",
    "\n",
    "# Question 6\n",
    "**What is the operation of the special character \\?**\n",
    "\n",
    "The backslash (\\) is used as an escape character to represent special characters and create escape sequences.\n",
    "\n",
    "# Question 7\n",
    "**Give an example of the following conditions:**\n",
    "    \n",
    "    (i) Homogeneous list\n",
    "        homogeneous_list = [1, 2, 3, 4, 5]\n",
    "    \n",
    "    (ii) Heterogeneous set\n",
    "        heterogeneous_set = {1, 'apple', 3.14, True}\n",
    "    \n",
    "    (iii) Homogeneous tuple\n",
    "        homogeneous_tuple = (10, 20, 30, 40, 50)\n",
    "\n",
    "# Question 8\n",
    "**Explain the mutable and immutable data types with proper explanation & examples.**\n",
    "\n",
    "    Mutable data types can be modified after creation, while immutable data types cannot.\n",
    "    Examples of mutable: lists, dictionaries\n",
    "    Examples of immutable: integers, strings, tuples\n",
    "\n",
    "# Question 9\n",
    "**Write a code to create the given structure using only a for loop.**"
   ]
  },
  {
   "cell_type": "code",
   "execution_count": 48,
   "id": "0d0b2147",
   "metadata": {},
   "outputs": [
    {
     "name": "stdout",
     "output_type": "stream",
     "text": [
      "    *\n",
      "   ***\n",
      "  *****\n",
      " *******\n",
      "*********\n"
     ]
    }
   ],
   "source": [
    "n = 5\n",
    "for i in range(1, n + 1):\n",
    "    a = \"*\" * (2 * i - 1)\n",
    "    b = \" \" * (n - i)\n",
    "    print(b + a)\n"
   ]
  },
  {
   "cell_type": "markdown",
   "id": "c9c49a94",
   "metadata": {},
   "source": [
    "# Question 10\n",
    "**Write a code to create the given structure using a while loop.**"
   ]
  },
  {
   "cell_type": "code",
   "execution_count": 3,
   "id": "2b4acf96",
   "metadata": {
    "scrolled": true
   },
   "outputs": [
    {
     "name": "stdout",
     "output_type": "stream",
     "text": [
      "|||||||||\n",
      " |||||||\n",
      "  |||||\n",
      "   |||\n",
      "    |\n"
     ]
    }
   ],
   "source": [
    "n, i = 5, 1\n",
    "while i <= n:\n",
    "    a = ' ' * (i - 1)\n",
    "    b = \"|\" * ((n - i) * 2 + 1)\n",
    "    print(a + b)\n",
    "    i += 1"
   ]
  }
 ],
 "metadata": {
  "kernelspec": {
   "display_name": "Python 3 (ipykernel)",
   "language": "python",
   "name": "python3"
  },
  "language_info": {
   "codemirror_mode": {
    "name": "ipython",
    "version": 3
   },
   "file_extension": ".py",
   "mimetype": "text/x-python",
   "name": "python",
   "nbconvert_exporter": "python",
   "pygments_lexer": "ipython3",
   "version": "3.11.3"
  }
 },
 "nbformat": 4,
 "nbformat_minor": 5
}
