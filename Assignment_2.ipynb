{
 "cells": [
  {
   "cell_type": "markdown",
   "id": "ea6a7566",
   "metadata": {},
   "source": [
    "# 1.What are the two values of the Boolean data type? How do you write them?\n",
    "        True and False are the two types of boolean data types.\n",
    "    is_active = True\n",
    "    has_permission = False\n"
   ]
  },
  {
   "cell_type": "markdown",
   "id": "473393c7",
   "metadata": {},
   "source": [
    "# 2. What are the three different types of Boolean operators?\n",
    "    Blow are the three boolean operators\n",
    "        True AND True = True\n",
    "        True AND False = False\n",
    "        False AND False = False\n",
    "   "
   ]
  },
  {
   "cell_type": "markdown",
   "id": "b1c49a13",
   "metadata": {},
   "source": [
    "# 3. Make a list of each Boolean operator's truth tables (i.e. every possible combination of Boolean values for the operator and what it evaluate ).\n",
    "    AND Operator (&&):\n",
    "    Operand 1    Operand 2\t   Result\n",
    "        True\t  True\t    True\n",
    "        True\t  False\t    False\n",
    "        False\t  True\t    False\n",
    "        False\t  False\t    False\n",
    "        \n",
    "    OR Operator (||):\n",
    "        Operand 1\tOperand 2 Result\n",
    "            True\t True\t    True\n",
    "            True\t False\t    True\n",
    "            False\t True\t    True\n",
    "            False\t False\t    False\n",
    "            \n",
    "    NOT Operator (!):\n",
    "        Operand\tResult\n",
    "        True\tFalse\n",
    "        False\tTrue"
   ]
  },
  {
   "cell_type": "markdown",
   "id": "7f97966b",
   "metadata": {},
   "source": [
    "# 4. What are the values of the following expressions?\n",
    "1. (5 > 4) and (3 == 5)\n",
    "    * False\n",
    "2. not (5 > 4)\n",
    "    * False\n",
    "3. (5 > 4) or (3 == 5)\n",
    "    * True\n",
    "4. not ((5 > 4) or (3 == 5))\n",
    "    * False\n",
    "5. (True and True) and (True == False)\n",
    "    * False\n",
    "6. (not False) or (not True)\n",
    "    * True\n"
   ]
  },
  {
   "cell_type": "markdown",
   "id": "3618c795",
   "metadata": {},
   "source": [
    "# 5. What are the six comparison operators?\n",
    "    1. == (Equal to)\n",
    "    2. != (Not equal to)\n",
    "    3. > (Greater than)\n",
    "    4. < (Less than)\n",
    "    5. >= (Greater than or equal to)\n",
    "    6. <= (Less than or equal to)"
   ]
  },
  {
   "cell_type": "markdown",
   "id": "3845808b",
   "metadata": {},
   "source": [
    "# 6. How do you tell the difference between the equal to and assignment operators?Describe a condition and when you would use one.\n",
    "if '==' is used in sentence it means ther's some sort of comaprision but if '=' is used, it means some value is being assigned to a variable."
   ]
  },
  {
   "cell_type": "code",
   "execution_count": 4,
   "id": "5f5659dd",
   "metadata": {},
   "outputs": [
    {
     "name": "stdout",
     "output_type": "stream",
     "text": [
      "100\n"
     ]
    }
   ],
   "source": [
    "a = 10\n",
    "b = ''\n",
    "if a == 10:\n",
    "    b = 100\n",
    "print(b)\n",
    "\n",
    "#when we need to assign a value to a variable we use '=' but when we need a comaprision we use '=='"
   ]
  },
  {
   "cell_type": "markdown",
   "id": "5434de54",
   "metadata": {},
   "source": [
    "# 7. Identify the three blocks in this code:\n",
    "    spam = 0\n",
    "    if spam == 10:\n",
    "    print('eggs')\n",
    "    if spam > 5:\n",
    "    print('bacon')\n",
    "    else:\n",
    "    print('ham')\n",
    "    print('spam')\n",
    "    print('spam')\n"
   ]
  },
  {
   "cell_type": "code",
   "execution_count": 6,
   "id": "ec28fb7e",
   "metadata": {},
   "outputs": [
    {
     "name": "stdout",
     "output_type": "stream",
     "text": [
      "ham\n",
      "spam\n",
      "spam\n"
     ]
    }
   ],
   "source": [
    "spam = 0\n",
    "#1st one\n",
    "if spam == 10:\n",
    "    print('eggs')\n",
    "\n",
    "#2nd one\n",
    "if spam > 5:\n",
    "    print('bacon')\n",
    "else:\n",
    "    print('ham')\n",
    "\n",
    "#3rd one\n",
    "print('spam')\n",
    "print('spam')\n"
   ]
  },
  {
   "cell_type": "markdown",
   "id": "a5218855",
   "metadata": {},
   "source": [
    "# 8. Write code that prints Hello if 1 is stored in spam, prints Howdy if 2 is stored in spam, and prints Greetings! if anything else is stored in spam."
   ]
  },
  {
   "cell_type": "code",
   "execution_count": 12,
   "id": "39685b54",
   "metadata": {},
   "outputs": [
    {
     "name": "stdout",
     "output_type": "stream",
     "text": [
      "Hello\n"
     ]
    }
   ],
   "source": [
    "a = 1\n",
    "if a == 1:\n",
    "    print('Hello')\n",
    "elif a == 2:\n",
    "    print('Howdy')\n",
    "else:\n",
    "    print(\"Greetings!\")"
   ]
  },
  {
   "cell_type": "markdown",
   "id": "23766f37",
   "metadata": {},
   "source": [
    "# 9.If your programme is stuck in an endless loop, what keys you’ll press? \n",
    "    ctrl+c"
   ]
  },
  {
   "cell_type": "markdown",
   "id": "7558fa22",
   "metadata": {},
   "source": [
    "# 10. How can you tell the difference between break and continue?\n",
    "1. break\n",
    "2. continue"
   ]
  },
  {
   "cell_type": "markdown",
   "id": "93d5f39b",
   "metadata": {},
   "source": [
    "* ##### break :  \n",
    "The break statement is used to exit the current loop prematurely when a specific condition is met. When the break statement is encountered inside a loop (such as for or while), the loop immediately terminates"
   ]
  },
  {
   "cell_type": "code",
   "execution_count": 15,
   "id": "7c957fad",
   "metadata": {},
   "outputs": [
    {
     "name": "stdout",
     "output_type": "stream",
     "text": [
      "0\n",
      "1\n",
      "2\n"
     ]
    }
   ],
   "source": [
    "        for i in range(5):\n",
    "            if i == 3:\n",
    "                break\n",
    "            print(i)"
   ]
  },
  {
   "cell_type": "markdown",
   "id": "55d45f47",
   "metadata": {},
   "source": [
    "* ##### continue : \n",
    "    The continue statement is used to skip the rest of the current iteration of a loop when a specific condition is met, but it doesn't terminate the loop entirely. Instead, it goes to the next iteration of the loop immediately."
   ]
  },
  {
   "cell_type": "code",
   "execution_count": 17,
   "id": "441e9a03",
   "metadata": {},
   "outputs": [
    {
     "name": "stdout",
     "output_type": "stream",
     "text": [
      "0\n",
      "1\n",
      "3\n",
      "4\n"
     ]
    }
   ],
   "source": [
    "for i in range(5):\n",
    "    if i == 2:\n",
    "        continue\n",
    "    print(i)"
   ]
  },
  {
   "cell_type": "markdown",
   "id": "89d77c0c",
   "metadata": {},
   "source": [
    "# 11. In a for loop, what is the difference between range(10), range(0, 10), and range(0, 10, 1)?\n",
    "1. range(10) : \n",
    "      * It will accept values from 0 to 10(excluded)\n",
    "      * starting point is default 0\n",
    "      * and the step is default 1\n",
    "2. range(0, 10)\n",
    "      * It will accept values from 0 to 10(excluded)\n",
    "      * starting point is already provided as 0\n",
    "      * and the step is default 1\n",
    "3. range(0, 10, 1)\n",
    "      * It will accept values from 0 to 10(excluded)\n",
    "      * starting point is already provided as 0\n",
    "      * and the step is already provided as 1"
   ]
  },
  {
   "cell_type": "code",
   "execution_count": 21,
   "id": "b7cc896a",
   "metadata": {},
   "outputs": [
    {
     "name": "stdout",
     "output_type": "stream",
     "text": [
      "0\n",
      "1\n",
      "2\n",
      "3\n",
      "4\n",
      "5\n",
      "6\n",
      "7\n",
      "8\n",
      "9\n"
     ]
    }
   ],
   "source": [
    "for i in range(0, 10, 1):\n",
    "    print(i)"
   ]
  },
  {
   "cell_type": "markdown",
   "id": "ab42aadd",
   "metadata": {},
   "source": [
    "# 12. Write a short program that prints the numbers 1 to 10 using a for loop. Then write an equivalent program that prints the numbers 1 to 10 using a while loop."
   ]
  },
  {
   "cell_type": "code",
   "execution_count": 23,
   "id": "06d3dff4",
   "metadata": {},
   "outputs": [
    {
     "name": "stdout",
     "output_type": "stream",
     "text": [
      "0\n",
      "1\n",
      "2\n",
      "3\n",
      "4\n",
      "5\n",
      "6\n",
      "7\n",
      "8\n",
      "9\n",
      "10\n",
      "0\n",
      "1\n",
      "2\n",
      "3\n",
      "4\n",
      "5\n",
      "6\n",
      "7\n",
      "8\n",
      "9\n",
      "10\n"
     ]
    }
   ],
   "source": [
    "for i in range(0, 11, 1):\n",
    "    print(i)\n",
    "    \n",
    "a = 0\n",
    "while a < 11:\n",
    "    print(a)\n",
    "    a = a+1"
   ]
  },
  {
   "cell_type": "markdown",
   "id": "08e04917",
   "metadata": {},
   "source": [
    "# 13. If you had a function named bacon() inside a module named spam, how would you call it after importing spam?"
   ]
  },
  {
   "cell_type": "code",
   "execution_count": null,
   "id": "31beaf15",
   "metadata": {},
   "outputs": [],
   "source": [
    "import spam as SPAM\n",
    "SPAM.bacon()"
   ]
  }
 ],
 "metadata": {
  "kernelspec": {
   "display_name": "Python 3 (ipykernel)",
   "language": "python",
   "name": "python3"
  },
  "language_info": {
   "codemirror_mode": {
    "name": "ipython",
    "version": 3
   },
   "file_extension": ".py",
   "mimetype": "text/x-python",
   "name": "python",
   "nbconvert_exporter": "python",
   "pygments_lexer": "ipython3",
   "version": "3.11.3"
  }
 },
 "nbformat": 4,
 "nbformat_minor": 5
}
