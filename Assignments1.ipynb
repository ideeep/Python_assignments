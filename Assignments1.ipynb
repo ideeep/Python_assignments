{
 "cells": [
  {
   "cell_type": "markdown",
   "id": "71854c00",
   "metadata": {},
   "source": [
    "# 1. In the below elements which of them are values or an expression? eg:- values can be integer or string and expressions will be mathematical operators.\n",
    "        *   Expression\n",
    "       'hello'  Values\n",
    "       -87.8   Values\n",
    "       -      Expression\n",
    "       /      Expression\n",
    "       +      Expression\n",
    "       6  Values\n"
   ]
  },
  {
   "cell_type": "markdown",
   "id": "439f68d6",
   "metadata": {},
   "source": [
    "# 2. What is the difference between string and variable?\n",
    "* String in Python is sequence of charecters. strings are enclosed in single quotes '', double quotes \"\" or tripple quotes \"\"\" \"\"\"\" or ''' ''' e.g. 'ABC' , \"ABC\" or \"\"\"ABC\"\"\"\n",
    "\n",
    "* Variable in pyhton is a just a reference to a value. it can be of any type integer, float, String etc"
   ]
  },
  {
   "cell_type": "markdown",
   "id": "409357f6",
   "metadata": {},
   "source": [
    "# 3. Describe three different data types.\n",
    "* ###### Integer: An integer is a complete number.\n",
    "    Example: age = 25\n",
    "\n",
    "* ###### Float: A float is a number with a fractional part, represented using a decimal point.\n",
    "    Example: pi = 3.14\n",
    "\n",
    "* ###### String: A string is a sequence of characters enclosed in quotes, used to represent text data.\n",
    "    Example: name = \"ABC\"\n",
    "\n",
    "* ###### Boolean: A boolean is a data type that can have one of two values, True or False, representing logical truth values.\n",
    "    Example: is_student = True"
   ]
  },
  {
   "cell_type": "markdown",
   "id": "56496c8d",
   "metadata": {},
   "source": [
    "# 4. What is an expression made up of? What do all expressions do?\n",
    "* An expresession is made up of atleast an operands and operator. \n",
    "    e.g. \n",
    "    * a = 10+20+30-100\n",
    "    * 10 > 5\n",
    "    * 20 < 30\n",
    "* The function of expression is to calculate some sort of value or comaprision.\n",
    "    e.g.\n",
    "    * a > b\n",
    "    * a * b"
   ]
  },
  {
   "cell_type": "markdown",
   "id": "9f65f2c9",
   "metadata": {},
   "source": [
    "# 5. This assignment statements, like spam = 10. What is the difference between an expression and a statement?\n",
    "* Expression is combination of one or more operators which evaluates to a single value.\n",
    "* Statement is a complete line of code that performs an action or carries out a specific task. Statements can contain expressions\n",
    "    e.g.\n",
    "    * ##### if statement\n",
    "    * ##### for statement\n",
    "        spam = 10, its an expression"
   ]
  },
  {
   "cell_type": "markdown",
   "id": "a3de1199",
   "metadata": {},
   "source": [
    "# 6. After running the following code, what does the variable bacon contain?\n",
    "    bacon = 22\n",
    "    bacon + 1\n",
    "    \n",
    "    23\n",
    "    Earlier 22 is assigned to bacon and in next step 1 is added to bacon, hence bacon value becomes 23\n",
    "    "
   ]
  },
  {
   "cell_type": "markdown",
   "id": "478960cf",
   "metadata": {},
   "source": [
    "# 7. What should the values of the following two terms be?\n",
    "    'spam' + 'spamspam'\n",
    "        spam will be added to spamspam hence, it will be spamspamspam\n",
    "       \n",
    "    'spam' * 3\n",
    "        spam will be multiplied by 3 hence, it will be spamspamspam"
   ]
  },
  {
   "cell_type": "markdown",
   "id": "641c2609",
   "metadata": {},
   "source": [
    "# 8. Why is eggs a valid variable name while 100 is invalid?\n",
    "    Variable names must start with a letter (a-z, A-Z) or an underscore (_).\n",
    "    and hence declaring a variable as eggs is correct while declaring as 100 is incorrect"
   ]
  },
  {
   "cell_type": "markdown",
   "id": "62c65cc5",
   "metadata": {},
   "source": [
    "# 9. What three functions can be used to get the integer, floating-point number, or string version of a value?\n",
    "        1. int()\n",
    "        2. float()\n",
    "        3. str()"
   ]
  },
  {
   "cell_type": "code",
   "execution_count": 10,
   "id": "165ec61b",
   "metadata": {},
   "outputs": [
    {
     "name": "stdout",
     "output_type": "stream",
     "text": [
      "10\n",
      "100.9\n",
      "Deep\n"
     ]
    }
   ],
   "source": [
    "a, b, c = 10, 100.9, 'Deep'\n",
    "print(int(a))\n",
    "print(float(b))\n",
    "print(str(c))"
   ]
  },
  {
   "cell_type": "markdown",
   "id": "0d17e42b",
   "metadata": {},
   "source": [
    "# 10. Why does this expression cause an error? How can you fix it?\n",
    "    'I have eaten ' + 99 + ' burritos.'\n",
    "    Above expression will throw an exception error, as a string cannot be added to an integer. to overcome this type of issue we need a type conversion"
   ]
  },
  {
   "cell_type": "code",
   "execution_count": 13,
   "id": "4e872ef4",
   "metadata": {},
   "outputs": [
    {
     "data": {
      "text/plain": [
       "'I have eaten 99 burritos.'"
      ]
     },
     "execution_count": 13,
     "metadata": {},
     "output_type": "execute_result"
    }
   ],
   "source": [
    "'I have eaten ' + str(99) + ' burritos.'"
   ]
  },
  {
   "cell_type": "code",
   "execution_count": null,
   "id": "7f4a311f",
   "metadata": {},
   "outputs": [],
   "source": []
  }
 ],
 "metadata": {
  "kernelspec": {
   "display_name": "Python 3 (ipykernel)",
   "language": "python",
   "name": "python3"
  },
  "language_info": {
   "codemirror_mode": {
    "name": "ipython",
    "version": 3
   },
   "file_extension": ".py",
   "mimetype": "text/x-python",
   "name": "python",
   "nbconvert_exporter": "python",
   "pygments_lexer": "ipython3",
   "version": "3.11.3"
  }
 },
 "nbformat": 4,
 "nbformat_minor": 5
}
