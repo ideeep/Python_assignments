{
 "cells": [
  {
   "cell_type": "markdown",
   "id": "69b4353a",
   "metadata": {},
   "source": [
    "# 1. What is the primary goal of Object-Oriented Programming (OOP)?\n",
    "The Primary goal of using OOPs are as below:\n",
    "1. Organize code into modular and reusable components called classes.\n",
    "2. Encapsulate data and behavior within objects, promoting information hiding.\n",
    "3. Enable code reuse through inheritance, allowing subclasses to inherit and extend functionality.\n",
    "4. Support polymorphism, allowing objects of different types to be treated uniformly.\n",
    "5. Provide a structured and flexible programming paradigm for creating maintainable code."
   ]
  },
  {
   "cell_type": "markdown",
   "id": "524aaaa1",
   "metadata": {},
   "source": [
    "# 2. What is an object in Python?\n",
    "An object in Python is something that can store information and perform actions. Objects are created from classes, which act as blueprints or templates for creating these objects. Objects allow us to represent and manipulate real-world entities"
   ]
  },
  {
   "cell_type": "markdown",
   "id": "623d7c87",
   "metadata": {},
   "source": [
    "# 3. What is a class in Python?\n",
    "A class is a blueprint or template that defines the structure and behavior of objects. It acts as a blueprint for creating objects of a particular type.\n",
    "###### In below code\n",
    "1. The calss is Person, which is blueprint for the object 'Deep' as it holds the name and age property"
   ]
  },
  {
   "cell_type": "code",
   "execution_count": 7,
   "id": "a2ee6639",
   "metadata": {},
   "outputs": [
    {
     "name": "stdout",
     "output_type": "stream",
     "text": [
      "Deep 25\n",
      "Hello, I am Deep\n"
     ]
    }
   ],
   "source": [
    "class Person: #class\n",
    "    def __init__(self, name, age):\n",
    "        self.name = name\n",
    "        self.age = age\n",
    "        \n",
    "    #method to introduce one self\n",
    "    def meet(self):\n",
    "        print(\"Hello, I am\", self.name)\n",
    "\n",
    "#Creating an object of the Person class\n",
    "p1 = Person(\"Deep\", 25)\n",
    "print(p1.name, p1.age)\n",
    "p1.meet()"
   ]
  },
  {
   "cell_type": "markdown",
   "id": "90d632e9",
   "metadata": {},
   "source": [
    "# 4. What are attributes and methods in a class?\n",
    "###### Attributes :\n",
    "Attributes are the data variable associated with the class, object\n",
    "Attributes represent the state or properties of an object. Each object created from a class can have its own unique set of attribute values. Attributes can be accessed and modified using dot(.).\n",
    "For example in below class Person, name and age are the attributes."
   ]
  },
  {
   "cell_type": "code",
   "execution_count": 9,
   "id": "40a5fe71",
   "metadata": {},
   "outputs": [
    {
     "name": "stdout",
     "output_type": "stream",
     "text": [
      "Deep 25\n"
     ]
    }
   ],
   "source": [
    "class Person:\n",
    "    def __init__(self, name, age):\n",
    "        self.name = name #attribute 1\n",
    "        self.age = age #attribute2\n",
    "p1 = Person(\"Deep\", 25)\n",
    "print(p1.name, p1.age)"
   ]
  },
  {
   "cell_type": "markdown",
   "id": "1e5f7fed",
   "metadata": {},
   "source": [
    "###### Methods:\n",
    "Methods are functions defined within a class that perform specific actions or operations on the object's data. Methods can access and manipulate the object's attributes.\n",
    "1. Parameterized\n",
    "2. Non-Parameterized\n",
    "\n",
    "Below example shows both types: "
   ]
  },
  {
   "cell_type": "code",
   "execution_count": 12,
   "id": "44aa6aba",
   "metadata": {},
   "outputs": [
    {
     "name": "stdout",
     "output_type": "stream",
     "text": [
      "The name is: 'Deep'\n",
      "The age is: '22'\n"
     ]
    }
   ],
   "source": [
    "class Person:\n",
    "    def __init__(self, name, age):\n",
    "        self.name = name\n",
    "        self.age = age \n",
    "        \n",
    "    def get_name(self, name):\n",
    "        print(f\"The name is: '{self.name}'\")\n",
    "        \n",
    "    def get_age(self):\n",
    "        print(f\"The age is: '{self.age}'\")\n",
    "        \n",
    "#creating object       \n",
    "p = Person(\"Deep\", 22)\n",
    "\n",
    "#calling methods using object\n",
    "p.get_name(\"Deep\") #parameterized method\n",
    "p.get_age() #non-parameterized"
   ]
  },
  {
   "cell_type": "markdown",
   "id": "ef1cb21f",
   "metadata": {},
   "source": [
    "# 5. What is the difference between class variables and instance variables in Python?\n",
    "###### Class Variables:\n",
    "\n",
    "1. Class variables are variables that are defined within a class but outside of any methods.\n",
    "2. They are shared among all instances (objects) of the class.\n",
    "3. Class variables are declared at the class level and are accessible using the class name.\n",
    "4. They are typically used to define attributes that are common to all objects of the class.\n",
    "5. Changes made to a class variable will affect all instances of the class.\n",
    "\n",
    "###### Instance Variables:\n",
    "\n",
    "1. Instance variables are variables that are unique to each instance (object) of a class.\n",
    "2. They are defined within methods or the class constructor (__init__) and are prefixed with self.\n",
    "3. Instance variables are specific to an object and hold different values for each instance.\n",
    "4. They are used to store the unique state or properties of individual objects.\n",
    "5. Changes made to an instance variable affect only the specific instance it belongs to.\n",
    "\n",
    "For example:"
   ]
  },
  {
   "cell_type": "code",
   "execution_count": 17,
   "id": "11490655",
   "metadata": {},
   "outputs": [
    {
     "name": "stdout",
     "output_type": "stream",
     "text": [
      "The person is 'Deep' of age '22'\n",
      "Country is: 'India'\n"
     ]
    }
   ],
   "source": [
    "class Person:\n",
    "    country = \"India\" #class variable\n",
    "    def __init__(self, name, age):\n",
    "        self.name = name #instance varibale\n",
    "        self.age = age #instance variable\n",
    "    def show(self):\n",
    "        print(f\"The person is '{self.name}' of age '{self.age}'\")\n",
    "        print(f\"Country is: '{Person.country}'\")\n",
    "p = Person(\"Deep\", 22)\n",
    "p.show()"
   ]
  },
  {
   "cell_type": "markdown",
   "id": "5eab3cfd",
   "metadata": {},
   "source": [
    "in above example, name and age is the instnace variable while country is class variable which will be accessible to all inside class Person."
   ]
  },
  {
   "cell_type": "markdown",
   "id": "a5333042",
   "metadata": {},
   "source": [
    "# 6. What is the purpose of the self parameter in Python class methods?\n",
    "'self' in python refers to the instance of the class\n",
    "\n",
    "1. Accessing instance attributes:\n",
    "  self.name\n",
    "2. Modifying instance attributes: \n",
    "  self.name = 'Krishna'\n",
    "4. Creating new attributes:\n",
    "  self.villege"
   ]
  },
  {
   "cell_type": "markdown",
   "id": "1a833958",
   "metadata": {},
   "source": [
    "# 7. For a library management system, you have to design the \"Book\" class with OOP principles in mind. \n",
    "###### The “Book” class will have following attributes:\n",
    "1. title: Represents the title of the book.\n",
    "2. author: Represents the author(s) of the book.\n",
    "3. isbn: Represents the ISBN (International Standard Book Number) of the book.\n",
    "4. publication_year: Represents the year of publication of the book.\n",
    "5. available_copies: Represents the number of copies available for checkout.\n",
    "\n",
    "##### The class will also include the following methods:\n",
    "\n",
    "1. check_out(self): Decrements the available copies by one if there are copies\n",
    "available for checkout.\n",
    "2. return_book(self): Increments the available copies by one when a book is\n",
    "returned.\n",
    "3. display_book_info(self): Displays the information about the book, including its\n",
    "attributes and the number of available copies."
   ]
  },
  {
   "cell_type": "code",
   "execution_count": 25,
   "id": "104aa690",
   "metadata": {},
   "outputs": [
    {
     "name": "stdout",
     "output_type": "stream",
     "text": [
      "The book is:  Mahabharat\n",
      "avaialable copies are:  100\n",
      "The author is:   Ved\n",
      "ISBN is:  123456\n",
      "The Year book published is:  2015\n",
      "the available copies of book after check_out are  99\n",
      "the available copies of book after check_out are  'No such Book available'\n",
      "the available copies of book after return are  100\n"
     ]
    }
   ],
   "source": [
    "class Book:\n",
    "    title = 'Mahabharat' #class Variable\n",
    "    #author = 'Vedvyash'\n",
    "    #isbn = 12345678\n",
    "    #publication_year = 2023\n",
    "    #available_copies = 100\n",
    "    def __init__(self, available_copies1, author, isbn, publication_year,):\n",
    "        #title = book_name #instance var\n",
    "        self.author = author\n",
    "        self.isbn = isbn\n",
    "        self.publication_year = publication_year\n",
    "        self.available_copies = available_copies1\n",
    "\n",
    "    def check_out(self, title_book):\n",
    "        if self.available_copies > 0 and self.title == title_book:\n",
    "            self.available_copies = self.available_copies-1\n",
    "            return self.available_copies\n",
    "            #print(f\"The available copies are '{self.available_copies}'\")\n",
    "        else:\n",
    "            return \"'No such Book available'\"\n",
    "    def return_book(self,title, yes):\n",
    "        if yes == 'yes' and title == self.title:\n",
    "            if self.available_copies < 100:\n",
    "                self.available_copies = self.available_copies+1\n",
    "            return self.available_copies\n",
    "            #print(f\"The available copies are '{self.available_copies}'\")\n",
    "        else:\n",
    "            return \"'No such Book available'\" \n",
    "    def display_book_info(self):\n",
    "        print(f\"The book is: \", self.title)\n",
    "        print(\"avaialable copies are: \", self.available_copies)\n",
    "        print(f\"The author is:  \", self.author)\n",
    "        print(\"ISBN is: \", self.isbn)\n",
    "        print(f\"The Year book published is: \", self.publication_year)\n",
    "b1 = Book(100,'Ved',123456,'2015')\n",
    "b1.display_book_info()\n",
    "print(\"the available copies of book after check_out are \", b1.check_out('Mahabharat'))\n",
    "print(\"the available copies of book after check_out are \", b1.check_out('book1'))\n",
    "print(\"the available copies of book after return are \", b1.return_book('Mahabharat', 'yes'))"
   ]
  },
  {
   "cell_type": "markdown",
   "id": "b1a75493",
   "metadata": {},
   "source": [
    "# 8. For a ticket booking system, you have to design the \"Ticket\" class with OOP principles in mind. \n",
    "###### The “Ticket” class should have the following attributes:\n",
    "1. ticket_id: Represents the unique identifier for the ticket.\n",
    "2. event_name: Represents the name of the event.\n",
    "3. event_date: Represents the date of the event.\n",
    "4. venue: Represents the venue of the event.\n",
    "5. seat_number: Represents the seat number associated with the ticket.\n",
    "6. price: Represents the price of the ticket.\n",
    "7. is_reserved: Represents the reservation status of the ticket.\n",
    "\n",
    "###### The class also includes the following methods:\n",
    "1. reserve_ticket(self): Marks the ticket as reserved if it is not already reserved.\n",
    "2. cancel_reservation(self): Cancels the reservation of the ticket if it is already reserved.\n",
    "3. display_ticket_info(self): Displays the information about the ticket, including its attributes and reservation status. "
   ]
  },
  {
   "cell_type": "code",
   "execution_count": 27,
   "id": "25942e31",
   "metadata": {},
   "outputs": [
    {
     "name": "stdout",
     "output_type": "stream",
     "text": [
      "============The ticket reserved========\n",
      "Ticket:  '1000' seat number:  '15'\n",
      "=========The ticket is cancelled===========\n",
      "Ticket:  '1000' seat number:  '15'\n",
      "==============Master list================\n",
      " The function is:  Mundan\n",
      " The the function date is:  14-07-2023\n",
      " The venue is:  Benaras\n"
     ]
    }
   ],
   "source": [
    "class Ticket:\n",
    "    ticket_id = ''\n",
    "    event_name = 'Mundan'\n",
    "    event_date = '14-07-2023'\n",
    "    venue = 'Benaras'\n",
    "    seat_numbe = ''\n",
    "    price = 2000\n",
    "    is_reserved = ''\n",
    "    def master_list(self):\n",
    "        print(\" The function is: \", self.event_name)\n",
    "        print(\" The the function date is: \", self.event_date)\n",
    "        print(\" The venue is: \", self.venue)\n",
    "\n",
    "    def display_ticket_info(self):\n",
    "        if self.is_reserved == 'Reserved':\n",
    "            print(\" The ticket number is: \", self.ticket_id)\n",
    "            print(\" The function is: \", self.event_name)\n",
    "            print(\" The the function date is: \", self.event_date)\n",
    "            print(\" The venue is: \", self.venue)\n",
    "            print(\" The seat number is: \", self.seat_numbe)\n",
    "            print(\" The cost is: \", self.price)\n",
    "            print(\" The status is: \", self.is_reserved)\n",
    "            print()\n",
    "        else:\n",
    "            print(\"==============Master list================\")\n",
    "            self.master_list()\n",
    "\n",
    "    def reserve_ticket(self):\n",
    "        if self.is_reserved != 'Reserved':\n",
    "            self.is_reserved = 'Reserved'\n",
    "            self.seat_numbe = 15\n",
    "            self.ticket_id = 1000\n",
    "            print(\"============The ticket reserved========\")\n",
    "            print(f\"Ticket:  '{self.ticket_id}' seat number:  '{self.seat_numbe}'\")\n",
    "\n",
    "    def cancel_reservation(Self, ticket_id, seat):\n",
    "        if Self.is_reserved == 'Reserved' and Self.ticket_id == ticket_id and Self.seat_numbe == seat:\n",
    "            Self.is_reserved = 'Cancelled'\n",
    "            print(f\"=========The ticket is cancelled===========\")\n",
    "            print(f\"Ticket:  '{Self.ticket_id}' seat number:  '{seat}'\")\n",
    "        else:\n",
    "            print(\"The ticket is not reserved yet\")\n",
    "t1 = Ticket()\n",
    "t1.reserve_ticket()\n",
    "\n",
    "t1.cancel_reservation(1000, 15)\n",
    "t1.display_ticket_info()"
   ]
  },
  {
   "cell_type": "markdown",
   "id": "45da6111",
   "metadata": {},
   "source": [
    "# 9. You are creating a shopping cart for an e-commerce website. Using OOP to model the \"ShoppingCart\" functionality \n",
    "###### The class should contain following attributes and methods:\n",
    "1. items: Represents the list of items in the shopping cart. \n",
    "\n",
    "###### The class also includes the following methods:\n",
    "2. add_item(self, item): Adds an item to the shopping cart by appending it to the list of items.\n",
    "3. remove_item(self, item): Removes an item from the shopping cart if it exists in the list.\n",
    "4. view_cart(self): Displays the items currently present in the shopping cart.\n",
    "5. clear_cart(self): Clears all items from the shopping cart by reassigning an empty list to the items attribute."
   ]
  },
  {
   "cell_type": "code",
   "execution_count": 34,
   "id": "5352ee8e",
   "metadata": {},
   "outputs": [
    {
     "name": "stdout",
     "output_type": "stream",
     "text": [
      "'Jeans' added to the cart\n",
      "'Milk' removed from the cart\n",
      "['meat', 'pepsi', 'soap', 'Jeans']\n"
     ]
    }
   ],
   "source": [
    "class ShoppingCart:\n",
    "    items =['Milk','meat','pepsi','soap']\n",
    "    def add_item(self, ite):\n",
    "        if ite in self.items:\n",
    "            #print(\"Item alredy in cart, wishing to add ome more quantity\")\n",
    "            str = input(\"Item alredy in cart, wishing to add ome more quantity?      \")\n",
    "            if str.upper() == 'Y':\n",
    "                self.items.append(ite)\n",
    "                print(f\"'{ite}' added to the cart\")\n",
    "            else:\n",
    "                pass\n",
    "        else:\n",
    "            self.items.append(ite)\n",
    "            print(f\"'{ite}' added to the cart\")\n",
    "    def view_cart(self):\n",
    "        print(self.items)\n",
    "\n",
    "    def remove_item(self, ite):\n",
    "        if ite in self.items:\n",
    "            self.items.remove(ite)\n",
    "            print(f\"'{ite}' removed from the cart\")\n",
    "        else:\n",
    "            print('No such object exist')\n",
    "\n",
    "    def clear_cart(self):\n",
    "        self.items.clear()\n",
    "\n",
    "s = ShoppingCart()\n",
    "s.add_item(\"Jeans\")\n",
    "s.remove_item('Milk')\n",
    "s.view_cart()\n",
    "s.clear_cart()"
   ]
  },
  {
   "cell_type": "markdown",
   "id": "d05423df",
   "metadata": {},
   "source": [
    "# 10. Imagine a school management system. You have to design the \"Student\" class using OOP concepts.\n",
    "###### The “Student” class has the following attributes:\n",
    "1. name: Represents the name of the student.\n",
    "2. age: Represents the age of the student.\n",
    "3. grade: Represents the grade or class of the student.\n",
    "4. student_id: Represents the unique identifier for the student.\n",
    "5. attendance: Represents the attendance record of the student.\n",
    "\n",
    "###### The class should also include the following methods:\n",
    "1. update_attendance(self, date, status): Updates the attendance record of the student for a given date with the provided status (e.g., present or absent).\n",
    "2. get_attendance(self): Returns the attendance record of the student.\n",
    "3. get_average_attendance(self): Calculates and returns the average attendance percentage of the student based on their attendance record."
   ]
  },
  {
   "cell_type": "code",
   "execution_count": 40,
   "id": "65db9987",
   "metadata": {},
   "outputs": [
    {
     "name": "stdout",
     "output_type": "stream",
     "text": [
      "Absent\n",
      "Enter totla months to be calculated   3\n",
      "The elements   20\n",
      "The elements   20\n",
      "The elements   20\n",
      "The attendenace past '3' months are: '[20, 20, 20]'\n",
      "The average attendance is '20.0'\n"
     ]
    }
   ],
   "source": [
    "class Student:\n",
    "    name = 'deep'\n",
    "    age = 20\n",
    "    grade = 'A'\n",
    "    student_id = 10\n",
    "    attendence = ''\n",
    "    date = '2023-07-14' #taking a default date\n",
    "    def update_attendence(self, date1, status):\n",
    "        if date1 == Student.date:\n",
    "            self.attendence = status\n",
    "    def get_attendence(self):\n",
    "        print(self.attendence)\n",
    "    def get_average_attendence(self):\n",
    "        total_days = []\n",
    "        n = int(input(\"Enter totla months to be calculated   \"))\n",
    "        for i in range(0,n):\n",
    "            total_days.append(int(input(\"The elements   \")))\n",
    "        print(f\"The attendenace past '{n}' months are: '{total_days}'\")\n",
    "        print(f\"The average attendance is '{sum(total_days)/n}'\")\n",
    "s = Student()\n",
    "s.update_attendence('2023-07-14','Absent')\n",
    "s.get_attendence()\n",
    "s.get_average_attendence()"
   ]
  },
  {
   "cell_type": "code",
   "execution_count": null,
   "id": "754ed512",
   "metadata": {},
   "outputs": [],
   "source": []
  }
 ],
 "metadata": {
  "kernelspec": {
   "display_name": "Python 3 (ipykernel)",
   "language": "python",
   "name": "python3"
  },
  "language_info": {
   "codemirror_mode": {
    "name": "ipython",
    "version": 3
   },
   "file_extension": ".py",
   "mimetype": "text/x-python",
   "name": "python",
   "nbconvert_exporter": "python",
   "pygments_lexer": "ipython3",
   "version": "3.11.3"
  }
 },
 "nbformat": 4,
 "nbformat_minor": 5
}
