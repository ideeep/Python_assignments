{
 "cells": [
  {
   "cell_type": "markdown",
   "id": "f0072829",
   "metadata": {},
   "source": [
    "# Question 1\n",
    "**1. Create two int type variables, apply addition, subtraction, division and multiplications and store the results in variables. Then print the data in the following format by calling the variables:**\n",
    "\n",
    "##### Variables\n",
    "    num1 = 20\n",
    "    num2 = 5\n",
    "    addition = num1 + num2\n",
    "    subtraction = num1 - num2\n",
    "    multiplication = num1 * num2\n",
    "    division = num1 / num2\n",
    "\n",
    "\n",
    "    print(f\"First variable is {num1} & second variable is {num2}.\")\n",
    "    print(f\"Addition: {num1} + {num2} = {addition}\")\n",
    "    print(f\"Subtraction: {num1} - {num2} = {subtraction}\")\n",
    "    print(f\"Multiplication: {num1} * {num2} = {multiplication}\")\n",
    "    print(f\"Division: {num1} / {num2} = {division:.2f}\")"
   ]
  },
  {
   "cell_type": "markdown",
   "id": "210a5c1d",
   "metadata": {},
   "source": [
    "\n",
    "# Question 2\n",
    "**2. What is the difference between the following operators:\\n(i) ‘/’ & ‘//’\\n(ii) ‘**’ & ‘^’**\n",
    "\n",
    "    (i) '/' performs division and returns a float, while '//' performs floor division and returns an integer.\n",
    "    (ii) '**' is the exponentiation operator, whereas '^' is not a valid exponentiation operator in Python.\n",
    "\n",
    "# Question 3\n",
    "\n",
    "**3. List the logical operators.**\n",
    "\n",
    "Logical operators: and, or, not\n",
    "\n",
    "# Question 4\n",
    "**4. Explain right shift operator and left shift operator with examples.**\n",
    "\n",
    "    Right Shift Operator (>>): Shifts the bits of a number to the right by a specified number of positions.\n",
    "    Left Shift Operator (<<): Shifts the bits of a number to the left by a specified number of positions.\n",
    "\n",
    "    num = 8  # Binary: 1000\n",
    "    right_shifted = num >> 1  # Binary after right shift: 0100 (Decimal: 4)\n",
    "    left_shifted = num << 2  # Binary after left shift: 100000 (Decimal: 32)\n",
    "    print(f\"Original: {num}, Right Shifted: {right_shifted}, Left Shifted: {left_shifted}\")\n",
    "\n",
    "# Question 5\n",
    "**5. Create a list containing int type data of length 15. Then write a code to check if 10 is present in the list or not.**\n",
    "   \n",
    "    data_list = [5, 7, 10, 15, 20, 25, 30, 35, 40, 45, 50, 55, 60, 65, 70]\n",
    "    target_number = 10\n",
    "\n",
    "**Checking if the target number is present in the list**\n"
   ]
  },
  {
   "cell_type": "code",
   "execution_count": 2,
   "id": "1d2b53b0",
   "metadata": {},
   "outputs": [
    {
     "name": "stdout",
     "output_type": "stream",
     "text": [
      "10 is present in the list.\n"
     ]
    }
   ],
   "source": [
    "data_list = [5, 7, 10, 15, 20, 25, 30, 35, 40, 45, 50, 55, 60, 65, 70]\n",
    "target_number = 10\n",
    "if target_number in data_list:\n",
    "    print(f\"{target_number} is present in the list.\")\n",
    "else:\n",
    "    print(f\"{target_number} is not present in the list.\")"
   ]
  },
  {
   "cell_type": "code",
   "execution_count": null,
   "id": "a9b9cffb",
   "metadata": {},
   "outputs": [],
   "source": []
  }
 ],
 "metadata": {
  "kernelspec": {
   "display_name": "Python 3 (ipykernel)",
   "language": "python",
   "name": "python3"
  },
  "language_info": {
   "codemirror_mode": {
    "name": "ipython",
    "version": 3
   },
   "file_extension": ".py",
   "mimetype": "text/x-python",
   "name": "python",
   "nbconvert_exporter": "python",
   "pygments_lexer": "ipython3",
   "version": "3.11.3"
  }
 },
 "nbformat": 4,
 "nbformat_minor": 5
}
